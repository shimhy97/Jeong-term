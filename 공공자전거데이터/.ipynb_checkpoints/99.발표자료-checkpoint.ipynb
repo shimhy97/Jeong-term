{
 "cells": [
  {
   "cell_type": "markdown",
   "metadata": {},
   "source": [
    "## 환경 설정"
   ]
  },
  {
   "cell_type": "code",
   "execution_count": 3,
   "metadata": {
    "vscode": {
     "languageId": "plaintext"
    }
   },
   "outputs": [],
   "source": [
    "############################################## 00. 필요한 파이썬 라이브러리 불러오기 #####################################################\n",
    "import pandas as pd\n",
    "import numpy as np\n",
    "import seaborn as sns\n",
    "import matplotlib.pyplot as plt\n",
    "import folium\n",
    "import webbrowser\n",
    "from IPython.display import Image\n",
    "\n",
    "import sys\n",
    "import plotly\n",
    "import plotly.graph_objects as go\n",
    "import plotly.express as px\n",
    "import missingno\n",
    "\n",
    "import spark\n",
    "import pydot \n",
    "from IPython.display import Image\n",
    "import pyarrow as pa\n",
    "\n",
    "import json\n",
    "import urllib\n",
    "import math\n",
    "from tqdm import tqdm\n",
    "import warnings\n",
    "import time\n",
    "from datetime import datetime\n",
    "import itertools\n",
    "\n",
    "## 전처리 ## \n",
    "from sklearn.preprocessing import StandardScaler, normalize\n",
    "from sklearn.cluster import KMeans\n",
    "from sklearn.decomposition import PCA\n",
    "from sklearn import svm\n",
    "from sklearn.model_selection import train_test_split\n",
    "from sklearn.metrics import accuracy_score, classification_report, r2_score\n",
    "from sklearn.linear_model import LogisticRegression\n",
    "from sklearn import tree \n",
    "from sklearn.tree import DecisionTreeClassifier\n",
    "from sklearn.metrics import mean_squared_error\n",
    "from sklearn.preprocessing import LabelEncoder\n",
    "\n",
    "## 시계열 실습 ##\n",
    "import statsmodels.api as sm\n",
    "from statsmodels.graphics.tsaplots import plot_acf, plot_pacf   ### acf pacf 그래프 생성 도구\n",
    "from statsmodels.tsa.arima.model import ARIMA\n",
    "from statsmodels.tsa.statespace.sarimax import SARIMAX\n",
    "from statsmodels.tsa.seasonal import seasonal_decompose\n",
    "from statsmodels.tsa.stattools import adfuller\n",
    "\n",
    "\n",
    "import tensorflow_probability as tfp\n",
    "from tensorflow_probability import sts\n",
    "\n",
    "## 자체적으로 만든 모듈\n",
    "from bike_data_analysis_class import *\n",
    "\n",
    "################### 설정 ########################\n",
    "warnings.filterwarnings(action='ignore')\n",
    "pd.options.display.float_format = '{:.2f}'.format\n",
    "plt.style.use('seaborn-whitegrid')\n",
    "%matplotlib inline"
   ]
  },
  {
   "cell_type": "markdown",
   "metadata": {},
   "source": [
    "# 개요"
   ]
  },
  {
   "cell_type": "markdown",
   "metadata": {},
   "source": [
    "## 연구 배경"
   ]
  },
  {
   "cell_type": "markdown",
   "metadata": {},
   "source": [
    "- Public Bicycle Sharing (이하 PBS) 서비스는 지속가능한 교통수단으로서 높은 이용률을 보이고 있음\n",
    "\n",
    "- 그러나 station마다 자전거 수의 불균형이 발생하여 사용자로 하여금 빈 거치대, 혹은 꽉 차서 반납이 불가능한 상황이 지속적으로 발생\n",
    "\n",
    "- 이를 방지하기 위해 지속적으로 거치대 상황을 모니터링하여 재배치가 이루어짐.\n",
    "\n",
    "- 재배치 문제를 풀기 전 자전거의 예상 수요 예측을 파악할 수 있다면, 운영 계획 수립에 효과적일 것으로 예상\n"
   ]
  },
  {
   "cell_type": "markdown",
   "metadata": {},
   "source": [
    "## Gartner Analytic Ascendancy Model"
   ]
  },
  {
   "cell_type": "code",
   "execution_count": 5,
   "metadata": {},
   "outputs": [
    {
     "ename": "SyntaxError",
     "evalue": "(unicode error) 'unicodeescape' codec can't decode bytes in position 2-3: truncated \\UXXXXXXXX escape (1943332987.py, line 1)",
     "output_type": "error",
     "traceback": [
      "\u001b[1;36m  Input \u001b[1;32mIn [5]\u001b[1;36m\u001b[0m\n\u001b[1;33m    Image(\"C:\\Users\\Hoonyong\\내 드라이브\\jeong-term\\공공자전거데이터\\Gartner.png\")\u001b[0m\n\u001b[1;37m                                                                    ^\u001b[0m\n\u001b[1;31mSyntaxError\u001b[0m\u001b[1;31m:\u001b[0m (unicode error) 'unicodeescape' codec can't decode bytes in position 2-3: truncated \\UXXXXXXXX escape\n"
     ]
    }
   ],
   "source": [
    "Image(\"C:/Users/Hoonyong\\내 드라이브\\jeong-term\\공공자전거데이터\\Gartner.png\")"
   ]
  },
  {
   "cell_type": "markdown",
   "metadata": {},
   "source": [
    "## 연구 목적"
   ]
  },
  {
   "cell_type": "markdown",
   "metadata": {},
   "source": [
    "- 최종 연구 목적:\n",
    "    - 강화학습과 동적 계획법을 사용한 실시간 자전거 재배치 전략 도출\n",
    " \n",
    "- Term project 에서의 목적:\n",
    "    - 실시간 실시간 재배치 전략을 (Prescriptive Analysis) 도출하려면 자전거의 예상 발생 수요량 예측이 우선적으로 수반되어야 함.(Predictive Analysis)\n",
    "    \n",
    "    - 서울시 공공자전거 대여 서비스(따릉이)의 실제 사용 raw data를 기반으로, 대여소 별 자전거의 예상 수요량을 1시간 단위로 예측하는 최적의 model 개발 \n"
   ]
  },
  {
   "cell_type": "markdown",
   "metadata": {},
   "source": [
    "# 데이터 소개"
   ]
  },
  {
   "cell_type": "markdown",
   "metadata": {},
   "source": [
    "# 데이터 전처리"
   ]
  },
  {
   "cell_type": "code",
   "execution_count": null,
   "metadata": {},
   "outputs": [],
   "source": [
    "## 월별 따릉이 데이터를 병합 (01월~12월)\n",
    "\n",
    "def merge_data():\n",
    "    df = pd.DataFrame()\n",
    "    month_list = [str(i).zfill(2) for i in range(1,13)]\n",
    "    for i in month_list:\n",
    "        data = pd.read_csv(\"공공자전거 대여이력 정보_21\"+ i +\".csv\",encoding='cp949')\n",
    "        df = pd.concat((df,data),sort=False)\n",
    "        print(data.head())\n",
    "    return df\n",
    "\n",
    "bike_df = merge_data()"
   ]
  },
  {
   "cell_type": "markdown",
   "metadata": {},
   "source": []
  },
  {
   "cell_type": "markdown",
   "metadata": {},
   "source": []
  },
  {
   "cell_type": "markdown",
   "metadata": {},
   "source": []
  },
  {
   "cell_type": "markdown",
   "metadata": {},
   "source": [
    "# 데이터 EDA"
   ]
  },
  {
   "cell_type": "markdown",
   "metadata": {},
   "source": []
  },
  {
   "cell_type": "markdown",
   "metadata": {},
   "source": []
  },
  {
   "cell_type": "markdown",
   "metadata": {},
   "source": []
  },
  {
   "cell_type": "markdown",
   "metadata": {},
   "source": []
  },
  {
   "cell_type": "markdown",
   "metadata": {},
   "source": [
    "# 시계열 분석 및 모델 피팅"
   ]
  }
 ],
 "metadata": {
  "kernelspec": {
   "display_name": "Python 3 (ipykernel)",
   "language": "python",
   "name": "python3"
  },
  "language_info": {
   "codemirror_mode": {
    "name": "ipython",
    "version": 3
   },
   "file_extension": ".py",
   "mimetype": "text/x-python",
   "name": "python",
   "nbconvert_exporter": "python",
   "pygments_lexer": "ipython3",
   "version": "3.9.12"
  }
 },
 "nbformat": 4,
 "nbformat_minor": 4
}
